{
 "cells": [
  {
   "cell_type": "markdown",
   "metadata": {
    "collapsed": true
   },
   "source": [
    "# Developing Formula"
   ]
  },
  {
   "cell_type": "markdown",
   "metadata": {},
   "source": [
    "## Data"
   ]
  },
  {
   "cell_type": "code",
   "execution_count": 1,
   "metadata": {},
   "outputs": [],
   "source": [
    "data = {\n",
    "    'react': {'stars': 115000, 'forks': 20000, 'watches': 6000, 'commits': 10500, 'releases': 103},\n",
    "    'angular': {'stars': 42000, 'forks': 10000, 'watches': 3000, 'commits': 11000, 'releases': 270},\n",
    "    'vue': {'stars': 118000, 'forks': 16000, 'watches': 5000, 'commits': 2600, 'releases': 200},\n",
    "    'lodash': {'stars': 35000, 'forks': 3000, 'watches': 800, 'commits': 7900, 'releases': 400},\n",
    "    'dojo': {'stars': 1000, 'forks': 500, 'watches': 100, 'commits': 3900, 'releases': 217},\n",
    "    'stackedit': {'stars': 13000, 'forks': 2000, 'watches': 500, 'commits': 264, 'releases': 115}, \n",
    "}"
   ]
  },
  {
   "cell_type": "code",
   "execution_count": 3,
   "metadata": {},
   "outputs": [],
   "source": [
    "import pandas as pd\n",
    "\n",
    "df = pd.DataFrame(data)\n",
    "df.head(10)"
   ]
  },
  {
   "cell_type": "code",
   "execution_count": 4,
   "metadata": {},
   "outputs": [
    {
     "data": {
      "text/plain": [
       "react        int64\nangular      int64\nvue          int64\nlodash       int64\ndojo         int64\nstackedit    int64\ndtype: object"
      ]
     },
     "execution_count": 4,
     "metadata": {},
     "output_type": "execute_result"
    }
   ],
   "source": [
    "df.dtypes"
   ]
  },
  {
   "cell_type": "code",
   "execution_count": 5,
   "metadata": {},
   "outputs": [],
   "source": [
    "df = df.T"
   ]
  },
  {
   "cell_type": "code",
   "execution_count": 6,
   "metadata": {},
   "outputs": [
    {
     "data": {
      "text/html": [
       "<div>\n",
       "<style scoped>\n",
       "    .dataframe tbody tr th:only-of-type {\n",
       "        vertical-align: middle;\n",
       "    }\n",
       "\n",
       "    .dataframe tbody tr th {\n",
       "        vertical-align: top;\n",
       "    }\n",
       "\n",
       "    .dataframe thead th {\n",
       "        text-align: right;\n",
       "    }\n",
       "</style>\n",
       "<table border=\"1\" class=\"dataframe\">\n",
       "  <thead>\n",
       "    <tr style=\"text-align: right;\">\n",
       "      <th></th>\n",
       "      <th>commits</th>\n",
       "      <th>forks</th>\n",
       "      <th>releases</th>\n",
       "      <th>stars</th>\n",
       "      <th>watches</th>\n",
       "    </tr>\n",
       "  </thead>\n",
       "  <tbody>\n",
       "    <tr>\n",
       "      <th>react</th>\n",
       "      <td>10500</td>\n",
       "      <td>20000</td>\n",
       "      <td>103</td>\n",
       "      <td>115000</td>\n",
       "      <td>6000</td>\n",
       "    </tr>\n",
       "    <tr>\n",
       "      <th>angular</th>\n",
       "      <td>11000</td>\n",
       "      <td>10000</td>\n",
       "      <td>270</td>\n",
       "      <td>42000</td>\n",
       "      <td>3000</td>\n",
       "    </tr>\n",
       "    <tr>\n",
       "      <th>vue</th>\n",
       "      <td>2600</td>\n",
       "      <td>16000</td>\n",
       "      <td>200</td>\n",
       "      <td>118000</td>\n",
       "      <td>5000</td>\n",
       "    </tr>\n",
       "    <tr>\n",
       "      <th>lodash</th>\n",
       "      <td>7900</td>\n",
       "      <td>3000</td>\n",
       "      <td>400</td>\n",
       "      <td>35000</td>\n",
       "      <td>800</td>\n",
       "    </tr>\n",
       "    <tr>\n",
       "      <th>dojo</th>\n",
       "      <td>3900</td>\n",
       "      <td>500</td>\n",
       "      <td>217</td>\n",
       "      <td>1000</td>\n",
       "      <td>100</td>\n",
       "    </tr>\n",
       "  </tbody>\n",
       "</table>\n",
       "</div>"
      ],
      "text/plain": [
       "<div>\n",
       "<style scoped>\n",
       "    .dataframe tbody tr th:only-of-type {\n",
       "        vertical-align: middle;\n",
       "    }\n",
       "\n",
       "    .dataframe tbody tr th {\n",
       "        vertical-align: top;\n",
       "    }\n",
       "\n",
       "    .dataframe thead th {\n",
       "        text-align: right;\n",
       "    }\n",
       "</style>\n",
       "<table border=\"1\" class=\"dataframe\">\n",
       "  <thead>\n",
       "    <tr style=\"text-align: right;\">\n",
       "      <th></th>\n",
       "      <th>commits</th>\n",
       "      <th>forks</th>\n",
       "      <th>releases</th>\n",
       "      <th>stars</th>\n",
       "      <th>watches</th>\n",
       "    </tr>\n",
       "  </thead>\n",
       "  <tbody>\n",
       "    <tr>\n",
       "      <th>react</th>\n",
       "      <td>10500</td>\n",
       "      <td>20000</td>\n",
       "      <td>103</td>\n",
       "      <td>115000</td>\n",
       "      <td>6000</td>\n",
       "    </tr>\n",
       "    <tr>\n",
       "      <th>angular</th>\n",
       "      <td>11000</td>\n",
       "      <td>10000</td>\n",
       "      <td>270</td>\n",
       "      <td>42000</td>\n",
       "      <td>3000</td>\n",
       "    </tr>\n",
       "    <tr>\n",
       "      <th>vue</th>\n",
       "      <td>2600</td>\n",
       "      <td>16000</td>\n",
       "      <td>200</td>\n",
       "      <td>118000</td>\n",
       "      <td>5000</td>\n",
       "    </tr>\n",
       "    <tr>\n",
       "      <th>lodash</th>\n",
       "      <td>7900</td>\n",
       "      <td>3000</td>\n",
       "      <td>400</td>\n",
       "      <td>35000</td>\n",
       "      <td>800</td>\n",
       "    </tr>\n",
       "    <tr>\n",
       "      <th>dojo</th>\n",
       "      <td>3900</td>\n",
       "      <td>500</td>\n",
       "      <td>217</td>\n",
       "      <td>1000</td>\n",
       "      <td>100</td>\n",
       "    </tr>\n",
       "  </tbody>\n",
       "</table>\n",
       "</div>"
      ]
     },
     "execution_count": 6,
     "metadata": {},
     "output_type": "execute_result"
    }
   ],
   "source": [
    "df.head()"
   ]
  },
  {
   "cell_type": "markdown",
   "metadata": {},
   "source": [
    "## Read sample data for formula"
   ]
  },
  {
   "cell_type": "code",
   "execution_count": 7,
   "metadata": {},
   "outputs": [],
   "source": [
    "df = pd.read_pickle('./formula/sample_pickle.pkl')"
   ]
  },
  {
   "cell_type": "code",
   "execution_count": 8,
   "metadata": {
    "collapsed": false
   },
   "outputs": [
    {
     "name": "stdout",
     "output_type": "stream",
     "text": [
      "                                   nameWithOwner           createdAt  \\\nfacebook_react                    facebook/react 2013-05-24 16:15:54   \nvuejs_vue                              vuejs/vue 2013-07-29 03:24:51   \ntorvalds_linux                    torvalds/linux 2011-09-04 22:48:12   \nValormmm_RannerBackend  Valor-mmm/Ranner-Backend 2018-03-25 15:12:51   \nbenweet_stackedit              benweet/stackedit 2013-03-24 13:46:06   \n\n                                 updatedAt   stars  releases  isFork  \\\nfacebook_react         2018-11-10 11:16:21  115156        71   False   \nvuejs_vue              2018-11-10 11:33:44  118611       187   False   \ntorvalds_linux         2018-11-10 11:34:15   65672         0   False   \nValormmm_RannerBackend 2018-09-25 19:55:56       0         0   False   \nbenweet_stackedit      2018-11-10 09:21:49   13017        12   False   \n\n                        forkCount  commitCount  \\\nfacebook_react              20770        10496   \nvuejs_vue                   16859         2673   \ntorvalds_linux              23903       796756   \nValormmm_RannerBackend          0           88   \nbenweet_stackedit            1991          264   \n\n                                                              description  \\\nfacebook_react          A declarative, efficient, and flexible JavaScr...   \nvuejs_vue               🖖 A progressive, incrementally-adoptable JavaS...   \ntorvalds_linux                                   Linux kernel source tree   \nValormmm_RannerBackend                Backend of a Trainings planner app.   \nbenweet_stackedit                              In-browser Markdown editor   \n\n                        watchers  diskUsage  \nfacebook_react              6530     139566  \nvuejs_vue                   5666      24038  \ntorvalds_linux              6554    2306053  \nValormmm_RannerBackend         0      29760  \nbenweet_stackedit            525      36607  \n"
     ]
    }
   ],
   "source": [
    "print(df)\n"
   ]
  },
  {
   "cell_type": "markdown",
   "metadata": {},
   "source": [
    "## Forula Checks"
   ]
  },
  {
   "cell_type": "markdown",
   "metadata": {},
   "source": [
    "### Apply Formula"
   ]
  },
  {
   "cell_type": "code",
   "execution_count": 9,
   "metadata": {},
   "outputs": [],
   "source": [
    "def apply_formula(formula, name, dataframe):\n",
    "    new_row = {}\n",
    "    for index, row in dataframe.iterrows():\n",
    "        new_row[index] = formula(row)\n",
    "\n",
    "    dataframe[name] = pd.Series(new_row)"
   ]
  },
  {
   "cell_type": "markdown",
   "metadata": {},
   "source": [
    "### Attempt 1"
   ]
  },
  {
   "cell_type": "markdown",
   "metadata": {
    "collapsed": true
   },
   "source": [
    "$stars +  forkCount + watchers$"
   ]
  },
  {
   "cell_type": "code",
   "execution_count": 10,
   "metadata": {},
   "outputs": [],
   "source": [
    "def formula1(series):\n",
    "    value = series.stars + series.forkCount + series.watchers\n",
    "    return value"
   ]
  },
  {
   "cell_type": "markdown",
   "metadata": {},
   "source": [
    "### Attempt 2"
   ]
  },
  {
   "cell_type": "markdown",
   "metadata": {},
   "source": [
    "$\\frac{stars + forkCount + watchers}{(inactive_days + 1) * 1.2}$"
   ]
  },
  {
   "cell_type": "code",
   "execution_count": 11,
   "metadata": {},
   "outputs": [],
   "source": [
    "from datetime import datetime\n",
    "\n",
    "\n",
    "def formula2(series):\n",
    "    positive = series.stars + series.forkCount + series.watchers\n",
    "    timedelta = datetime.now() - series.updatedAt\n",
    "    value = positive / ((timedelta.days + 1) * 1.2)\n",
    "    return value\n"
   ]
  },
  {
   "cell_type": "markdown",
   "metadata": {},
   "source": [
    "## Attempt 3"
   ]
  },
  {
   "cell_type": "markdown",
   "metadata": {},
   "source": [
    "$\\frac{stars + forkCount + watchers + project_days}{(inactive_days + 1) * 1.2}$"
   ]
  },
  {
   "cell_type": "code",
   "execution_count": 12,
   "metadata": {},
   "outputs": [],
   "source": [
    "from datetime import datetime\n",
    "\n",
    "\n",
    "def formula3(series):\n",
    "    active_timedelta = series.updatedAt - series.createdAt\n",
    "    positive = series.stars + series.forkCount + series.watchers + active_timedelta.days\n",
    "    timedelta = datetime.now() - series.updatedAt\n",
    "    value = positive / ((timedelta.days + 1) * 1.2)\n",
    "    return value"
   ]
  },
  {
   "cell_type": "markdown",
   "metadata": {
    "collapsed": true
   },
   "source": [
    "### Attempt 4"
   ]
  },
  {
   "cell_type": "markdown",
   "metadata": {},
   "source": [
    "$\\frac{stars + forkCount + watchers + project_days + (commits / 8)}{inactive_days +1}$"
   ]
  },
  {
   "cell_type": "code",
   "execution_count": 13,
   "metadata": {},
   "outputs": [],
   "source": [
    "from datetime import datetime\n",
    "\n",
    "\n",
    "def formula4(series):\n",
    "    active_timedelta = series.updatedAt - series.createdAt\n",
    "    commit_value = series.commitCount / 8\n",
    "    positive = series.stars + series.forkCount + series.watchers + active_timedelta.days + commit_value\n",
    "    timedelta = datetime.now() - series.updatedAt\n",
    "    value = positive / (timedelta.days + 1)\n",
    "    return value\n"
   ]
  },
  {
   "cell_type": "markdown",
   "metadata": {},
   "source": [
    "## Comparision"
   ]
  },
  {
   "cell_type": "code",
   "execution_count": 14,
   "metadata": {},
   "outputs": [],
   "source": [
    "apply_formula(formula1, 'formula1', df)\n",
    "apply_formula(formula2, 'formula2', df)\n",
    "apply_formula(formula3, 'formula3', df)\n",
    "apply_formula(formula4, 'finalFormula', df)"
   ]
  },
  {
   "cell_type": "code",
   "execution_count": 15,
   "metadata": {},
   "outputs": [],
   "source": [
    "analysis_df = df[['stars', 'formula1', 'formula2', 'formula3', 'finalFormula']]"
   ]
  },
  {
   "cell_type": "code",
   "execution_count": 15,
   "metadata": {},
   "outputs": [],
   "source": [
    "analysis_df.to_pickle('./formula/formula_analysis_df.pkl')"
   ]
  },
  {
   "cell_type": "code",
   "execution_count": 17,
   "metadata": {},
   "outputs": [
    {
     "name": "stdout",
     "output_type": "stream",
     "text": [
      "               stars    releases     forkCount    commitCount     watchers  \\\ncount       5.000000    5.000000      5.000000       5.000000     5.000000   \nmean    62491.200000   54.000000  12704.600000  162055.400000  3855.000000   \nstd     55421.063556   79.959365  10998.885912  354833.675324  3304.159197   \nmin         0.000000    0.000000      0.000000      88.000000     0.000000   \n25%     13017.000000    0.000000   1991.000000     264.000000   525.000000   \n50%     65672.000000   12.000000  16859.000000    2673.000000  5666.000000   \n75%    115156.000000   71.000000  20770.000000   10496.000000  6530.000000   \nmax    118611.000000  187.000000  23903.000000  796756.000000  6554.000000   \n\n          diskUsage      formula1      formula2      formula3  finalFormula  \ncount  5.000000e+00       5.00000      5.000000      5.000000      5.000000  \nmean   5.072048e+05   79050.80000  32937.833333  33655.485816  50513.992287  \nstd    1.006712e+06   67915.38165  28298.075688  28545.301281  43609.810177  \nmin    2.403800e+04       0.00000      0.000000      3.262411      4.148936  \n25%    2.976000e+04   15533.00000   6472.083333   7328.750000   8811.000000  \n50%    3.660700e+04   96129.00000  40053.750000  41146.666667  71700.062500  \n75%    1.395660e+05  141136.00000  58806.666667  59610.833333  72881.500000  \nmax    2.306053e+06  142456.00000  59356.666667  60187.916667  99173.250000  \n"
     ]
    }
   ],
   "source": [
    "print(df.describe())"
   ]
  },
  {
   "cell_type": "code",
   "execution_count": null,
   "metadata": {},
   "outputs": [],
   "source": []
  }
 ],
 "metadata": {
  "kernelspec": {
   "display_name": "Python 2",
   "language": "python",
   "name": "python2"
  },
  "language_info": {
   "codemirror_mode": {
    "name": "ipython",
    "version": 2
   },
   "file_extension": ".py",
   "mimetype": "text/x-python",
   "name": "python",
   "nbconvert_exporter": "python",
   "pygments_lexer": "ipython2",
   "version": "2.7.6"
  }
 },
 "nbformat": 4,
 "nbformat_minor": 0
}
