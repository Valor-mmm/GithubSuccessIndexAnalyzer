{
 "cells": [
  {
   "cell_type": "markdown",
   "metadata": {
    "collapsed": true
   },
   "source": [
    "# Data refurbish"
   ]
  },
  {
   "cell_type": "markdown",
   "metadata": {},
   "source": [
    "## Read JSON"
   ]
  },
  {
   "cell_type": "code",
   "execution_count": 65,
   "metadata": {},
   "outputs": [],
   "source": [
    "from json import load\n",
    "\n",
    "\n",
    "with open('./data/result.json', 'r') as f:\n",
    "    result = load(f)"
   ]
  },
  {
   "cell_type": "code",
   "execution_count": 66,
   "metadata": {},
   "outputs": [],
   "source": [
    "import pandas as pd\n",
    "\n",
    "seriesDict = {}\n",
    "\n",
    "for key, value in result.items():\n",
    "    if not value:\n",
    "        continue\n",
    "    newValue = {}\n",
    "    newValue['nameWithOwner'] = value['nameWithOwner']\n",
    "    newValue['createdAt'] = value['createdAt']\n",
    "    newValue['updatedAt'] = value['updatedAt']\n",
    "    newValue['stars'] = value['stargazers']['totalCount']\n",
    "    newValue['releases'] = value['releases']['totalCount']\n",
    "    newValue['isFork'] = value['isFork']\n",
    "    newValue['forkCount'] = value['forkCount']\n",
    "    newValue['commitCount'] = value['defaultBranchRef']['target']['history']['totalCount']\n",
    "    newValue['description'] = value['description']\n",
    "    newValue['diskUsage'] = value['diskUsage']\n",
    "    series = pd.Series(newValue)\n",
    "    seriesDict[key] = series"
   ]
  },
  {
   "cell_type": "code",
   "execution_count": 67,
   "metadata": {},
   "outputs": [],
   "source": [
    "dataFrame = pd.DataFrame(seriesDict)\n",
    "dataFrame = dataFrame.T"
   ]
  },
  {
   "cell_type": "markdown",
   "metadata": {},
   "source": [
    "## Change datatype "
   ]
  },
  {
   "cell_type": "code",
   "execution_count": 68,
   "metadata": {},
   "outputs": [
    {
     "data": {
      "text/plain": [
       "nameWithOwner    object\ncreatedAt        object\nupdatedAt        object\nstars            object\nreleases         object\nisFork           object\nforkCount        object\ncommitCount      object\ndescription      object\ndiskUsage        object\ndtype: object"
      ]
     },
     "execution_count": 68,
     "metadata": {},
     "output_type": "execute_result"
    }
   ],
   "source": [
    "dataFrame.dtypes"
   ]
  },
  {
   "cell_type": "markdown",
   "metadata": {},
   "source": [
    "## Map timestamps"
   ]
  },
  {
   "cell_type": "code",
   "execution_count": 69,
   "metadata": {
    "collapsed": true
   },
   "outputs": [
    {
     "data": {
      "text/plain": [
       "Index(['sa1_i3', 'GSA_seo', 'HHK1_AI', 'HR_term', 'burz_v8', 'f213_ca',\n       'ii_iipi', 'nhu_ndb', 'res_R', 'rsms_tc',\n       ...\n       'apuentemedallia_toolsandtechniquesforvulnerabilityvalidation',\n       'songsuoyuan_TheElementofStatisticalLearningPythonImplements',\n       'stressandwellbeingclinic_stressandwellbeingclinicgithubio',\n       'yath_android_prebuilts_gcc_linuxx8632_arm_armlinuxandroideabi46',\n       'ordinarydeveloper_book_modern_c_plus_plus_programming_with_tdd_j_langr',\n       'chandupatlas_android_prebuilts_gcc_linuxx8632_arm_armlinuxandroideabi47',\n       'TamuGeoInnovation_TamuGeoInnovationCommonCoreGeoGeographicFeaturesParcels',\n       'TRiggin_httpsgithubcomTRiggingooglejstemplateblobmasterjstemplate_jsunithtml',\n       'F6HQZ_audiocontrolerdrivingI2Crotaryencodersdigitalpotentiometers24xLEDsbargraphsLCD',\n       'ucdavisbioinformaticstraining_BioinformaticsGenomeAssemblyandAnalysisWorkshopPacBioand10xGenomics'],\n      dtype='object', length=12717)"
      ]
     },
     "execution_count": 69,
     "metadata": {},
     "output_type": "execute_result"
    }
   ],
   "source": [
    "dataFrame.index"
   ]
  },
  {
   "cell_type": "code",
   "execution_count": 33,
   "metadata": {
    "collapsed": false
   },
   "outputs": [
    {
     "data": {
      "text/plain": [
       "Index(['nameWithOwner', 'createdAt', 'updatedAt', 'stars', 'releases',\n       'isFork', 'forkCount', 'commitCount', 'description', 'diskUsage'],\n      dtype='object')"
      ]
     },
     "execution_count": 33,
     "metadata": {},
     "output_type": "execute_result"
    }
   ],
   "source": [
    "dataFrame.columns"
   ]
  },
  {
   "cell_type": "code",
   "execution_count": 70,
   "metadata": {},
   "outputs": [],
   "source": [
    "import numpy as np\n",
    "\n",
    "data_types = {'nameWithOwner': str, 'createdAt': str, 'updatedAt': str, 'stars': np.int64,\n",
    "              'releases': np.int64, 'isFork': np.bool_, 'forkCount': np.int64, 'commitCount': np.int64,\n",
    "              'description': str, 'diskUsage': np.int64}"
   ]
  },
  {
   "cell_type": "code",
   "execution_count": 71,
   "metadata": {},
   "outputs": [
    {
     "data": {
      "text/plain": [
       "nameWithOwner    object\ncreatedAt        object\nupdatedAt        object\nstars            object\nreleases         object\nisFork           object\nforkCount        object\ncommitCount       int64\ndescription      object\ndiskUsage        object\ndtype: object"
      ]
     },
     "execution_count": 71,
     "metadata": {},
     "output_type": "execute_result"
    }
   ],
   "source": [
    "d_types = {'commitCount': np.int64}\n",
    "dataFrame.astype(d_types).dtypes"
   ]
  },
  {
   "cell_type": "code",
   "execution_count": 72,
   "metadata": {
    "collapsed": true
   },
   "outputs": [
    {
     "data": {
      "text/plain": [
       "nameWithOwner    object\ncreatedAt        object\nupdatedAt        object\nstars             int64\nreleases          int64\nisFork             bool\nforkCount         int64\ncommitCount       int64\ndescription      object\ndiskUsage         int64\ndtype: object"
      ]
     },
     "execution_count": 72,
     "metadata": {},
     "output_type": "execute_result"
    }
   ],
   "source": [
    "typed_df = dataFrame.astype(data_types)\n",
    "typed_df.dtypes"
   ]
  },
  {
   "cell_type": "markdown",
   "metadata": {},
   "source": [
    "## Map timestamps"
   ]
  },
  {
   "cell_type": "code",
   "execution_count": 73,
   "metadata": {
    "collapsed": false
   },
   "outputs": [
    {
     "data": {
      "text/plain": [
       "datetime.datetime(2013, 6, 27, 8, 6, 45)"
      ]
     },
     "execution_count": 73,
     "metadata": {},
     "output_type": "execute_result"
    }
   ],
   "source": [
    "from datetime import datetime\n",
    "\n",
    "\n",
    "def convert_timestamp(timestamp):\n",
    "    date = datetime.strptime(timestamp, '%Y-%m-%dT%H:%M:%SZ')\n",
    "    return date\n",
    "    \n",
    "    \n",
    "convert_timestamp('2013-06-27T08:06:45Z')"
   ]
  },
  {
   "cell_type": "code",
   "execution_count": 78,
   "metadata": {},
   "outputs": [],
   "source": [
    "def to_timeseries(series):\n",
    "    return series.map(convert_timestamp)\n",
    "    \n",
    "\n",
    "typed_df['updatedAt'] = to_timeseries(typed_df['updatedAt'])"
   ]
  },
  {
   "cell_type": "code",
   "execution_count": 79,
   "metadata": {
    "collapsed": true
   },
   "outputs": [
    {
     "data": {
      "text/plain": [
       "nameWithOwner            object\ncreatedAt        datetime64[ns]\nupdatedAt        datetime64[ns]\nstars                     int64\nreleases                  int64\nisFork                     bool\nforkCount                 int64\ncommitCount               int64\ndescription              object\ndiskUsage                 int64\ndtype: object"
      ]
     },
     "execution_count": 79,
     "metadata": {},
     "output_type": "execute_result"
    }
   ],
   "source": [
    "typed_df.dtypes"
   ]
  },
  {
   "cell_type": "code",
   "execution_count": null,
   "metadata": {},
   "outputs": [],
   "source": []
  }
 ],
 "metadata": {
  "kernelspec": {
   "display_name": "Python 2",
   "language": "python",
   "name": "python2"
  },
  "language_info": {
   "codemirror_mode": {
    "name": "ipython",
    "version": 2
   },
   "file_extension": ".py",
   "mimetype": "text/x-python",
   "name": "python",
   "nbconvert_exporter": "python",
   "pygments_lexer": "ipython2",
   "version": "2.7.6"
  }
 },
 "nbformat": 4,
 "nbformat_minor": 0
}
