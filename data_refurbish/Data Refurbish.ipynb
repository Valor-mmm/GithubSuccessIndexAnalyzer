{
 "cells": [
  {
   "cell_type": "markdown",
   "metadata": {
    "collapsed": true
   },
   "source": [
    "# Data refurbish"
   ]
  },
  {
   "cell_type": "markdown",
   "metadata": {},
   "source": [
    "## Read JSON"
   ]
  },
  {
   "cell_type": "code",
   "execution_count": 111,
   "metadata": {},
   "outputs": [],
   "source": [
    "from json import load\n",
    "\n",
    "\n",
    "with open('./data/result.json', 'r') as f:\n",
    "    result = load(f)"
   ]
  },
  {
   "cell_type": "code",
   "execution_count": 97,
   "metadata": {},
   "outputs": [],
   "source": [
    "import pandas as pd\n",
    "\n",
    "seriesDict = {}\n",
    "\n",
    "for key, value in result.items():\n",
    "    if not value:\n",
    "        continue\n",
    "    newValue = {}\n",
    "    newValue['nameWithOwner'] = value['nameWithOwner']\n",
    "    newValue['createdAt'] = value['createdAt']\n",
    "    newValue['updatedAt'] = value['updatedAt']\n",
    "    newValue['stars'] = value['stargazers']['totalCount']\n",
    "    newValue['releases'] = value['releases']['totalCount']\n",
    "    newValue['isFork'] = value['isFork']\n",
    "    newValue['forkCount'] = value['forkCount']\n",
    "    newValue['commitCount'] = value['defaultBranchRef']['target']['history']['totalCount']\n",
    "    newValue['description'] = value['description']\n",
    "    newValue['diskUsage'] = value['diskUsage']\n",
    "    newValue['watchers'] = value['watchers']['totalCount']\n",
    "    series = pd.Series(newValue)\n",
    "    seriesDict[key] = series"
   ]
  },
  {
   "cell_type": "code",
   "execution_count": 98,
   "metadata": {},
   "outputs": [],
   "source": [
    "dataFrame = pd.DataFrame(seriesDict)\n",
    "dataFrame = dataFrame.T"
   ]
  },
  {
   "cell_type": "markdown",
   "metadata": {},
   "source": [
    "## Change datatype "
   ]
  },
  {
   "cell_type": "code",
   "execution_count": 99,
   "metadata": {},
   "outputs": [
    {
     "data": {
      "text/plain": [
       "nameWithOwner    object\ncreatedAt        object\nupdatedAt        object\nstars            object\nreleases         object\nisFork           object\nforkCount        object\ncommitCount      object\ndescription      object\ndiskUsage        object\nwatchers         object\ndtype: object"
      ]
     },
     "execution_count": 99,
     "metadata": {},
     "output_type": "execute_result"
    }
   ],
   "source": [
    "dataFrame.dtypes"
   ]
  },
  {
   "cell_type": "markdown",
   "metadata": {},
   "source": [
    "## Map timestamps"
   ]
  },
  {
   "cell_type": "code",
   "execution_count": 100,
   "metadata": {
    "collapsed": true
   },
   "outputs": [
    {
     "data": {
      "text/plain": [
       "Index(['sa1_i3', 'GSA_seo', 'HHK1_AI', 'HR_term', 'burz_v8', 'f213_ca',\n       'ii_iipi', 'nhu_ndb', 'res_R', 'rsms_tc',\n       ...\n       'apuentemedallia_toolsandtechniquesforvulnerabilityvalidation',\n       'songsuoyuan_TheElementofStatisticalLearningPythonImplements',\n       'stressandwellbeingclinic_stressandwellbeingclinicgithubio',\n       'yath_android_prebuilts_gcc_linuxx8632_arm_armlinuxandroideabi46',\n       'ordinarydeveloper_book_modern_c_plus_plus_programming_with_tdd_j_langr',\n       'chandupatlas_android_prebuilts_gcc_linuxx8632_arm_armlinuxandroideabi47',\n       'TamuGeoInnovation_TamuGeoInnovationCommonCoreGeoGeographicFeaturesParcels',\n       'TRiggin_httpsgithubcomTRiggingooglejstemplateblobmasterjstemplate_jsunithtml',\n       'F6HQZ_audiocontrolerdrivingI2Crotaryencodersdigitalpotentiometers24xLEDsbargraphsLCD',\n       'ucdavisbioinformaticstraining_BioinformaticsGenomeAssemblyandAnalysisWorkshopPacBioand10xGenomics'],\n      dtype='object', length=12716)"
      ]
     },
     "execution_count": 100,
     "metadata": {},
     "output_type": "execute_result"
    }
   ],
   "source": [
    "dataFrame.index"
   ]
  },
  {
   "cell_type": "code",
   "execution_count": 101,
   "metadata": {
    "collapsed": false
   },
   "outputs": [
    {
     "data": {
      "text/plain": [
       "Index(['nameWithOwner', 'createdAt', 'updatedAt', 'stars', 'releases',\n       'isFork', 'forkCount', 'commitCount', 'description', 'diskUsage',\n       'watchers'],\n      dtype='object')"
      ]
     },
     "execution_count": 101,
     "metadata": {},
     "output_type": "execute_result"
    }
   ],
   "source": [
    "dataFrame.columns"
   ]
  },
  {
   "cell_type": "code",
   "execution_count": 102,
   "metadata": {},
   "outputs": [],
   "source": [
    "import numpy as np\n",
    "\n",
    "data_types = {'nameWithOwner': str, 'createdAt': str, 'updatedAt': str, 'stars': np.int64,\n",
    "              'releases': np.int64, 'isFork': np.bool_, 'forkCount': np.int64, 'commitCount': np.int64,\n",
    "              'description': str, 'diskUsage': np.int64}"
   ]
  },
  {
   "cell_type": "code",
   "execution_count": 103,
   "metadata": {},
   "outputs": [
    {
     "data": {
      "text/plain": [
       "nameWithOwner    object\ncreatedAt        object\nupdatedAt        object\nstars            object\nreleases         object\nisFork           object\nforkCount        object\ncommitCount       int64\ndescription      object\ndiskUsage        object\nwatchers         object\ndtype: object"
      ]
     },
     "execution_count": 103,
     "metadata": {},
     "output_type": "execute_result"
    }
   ],
   "source": [
    "d_types = {'commitCount': np.int64}\n",
    "dataFrame.astype(d_types).dtypes"
   ]
  },
  {
   "cell_type": "code",
   "execution_count": 104,
   "metadata": {
    "collapsed": true
   },
   "outputs": [
    {
     "data": {
      "text/plain": [
       "nameWithOwner    object\ncreatedAt        object\nupdatedAt        object\nstars             int64\nreleases          int64\nisFork             bool\nforkCount         int64\ncommitCount       int64\ndescription      object\ndiskUsage         int64\nwatchers         object\ndtype: object"
      ]
     },
     "execution_count": 104,
     "metadata": {},
     "output_type": "execute_result"
    }
   ],
   "source": [
    "typed_df = dataFrame.astype(data_types)\n",
    "typed_df.dtypes"
   ]
  },
  {
   "cell_type": "markdown",
   "metadata": {},
   "source": [
    "## Map timestamps"
   ]
  },
  {
   "cell_type": "code",
   "execution_count": 105,
   "metadata": {
    "collapsed": false
   },
   "outputs": [
    {
     "data": {
      "text/plain": [
       "datetime.datetime(2013, 6, 27, 8, 6, 45)"
      ]
     },
     "execution_count": 105,
     "metadata": {},
     "output_type": "execute_result"
    }
   ],
   "source": [
    "from datetime import datetime\n",
    "\n",
    "\n",
    "def convert_timestamp(timestamp):\n",
    "    date = datetime.strptime(timestamp, '%Y-%m-%dT%H:%M:%SZ')\n",
    "    return date\n",
    "    \n",
    "    \n",
    "convert_timestamp('2013-06-27T08:06:45Z')"
   ]
  },
  {
   "cell_type": "code",
   "execution_count": 106,
   "metadata": {},
   "outputs": [],
   "source": [
    "def to_timeseries(series):\n",
    "    return series.map(convert_timestamp)\n",
    "    \n",
    "\n",
    "typed_df['updatedAt'] = to_timeseries(typed_df['updatedAt'])"
   ]
  },
  {
   "cell_type": "code",
   "execution_count": 107,
   "metadata": {
    "collapsed": true
   },
   "outputs": [
    {
     "data": {
      "text/plain": [
       "nameWithOwner            object\ncreatedAt                object\nupdatedAt        datetime64[ns]\nstars                     int64\nreleases                  int64\nisFork                     bool\nforkCount                 int64\ncommitCount               int64\ndescription              object\ndiskUsage                 int64\nwatchers                 object\ndtype: object"
      ]
     },
     "execution_count": 107,
     "metadata": {},
     "output_type": "execute_result"
    }
   ],
   "source": [
    "typed_df.dtypes"
   ]
  },
  {
   "cell_type": "code",
   "execution_count": 110,
   "metadata": {},
   "outputs": [
    {
     "data": {
      "text/html": [
       "<div>\n",
       "<style scoped>\n",
       "    .dataframe tbody tr th:only-of-type {\n",
       "        vertical-align: middle;\n",
       "    }\n",
       "\n",
       "    .dataframe tbody tr th {\n",
       "        vertical-align: top;\n",
       "    }\n",
       "\n",
       "    .dataframe thead th {\n",
       "        text-align: right;\n",
       "    }\n",
       "</style>\n",
       "<table border=\"1\" class=\"dataframe\">\n",
       "  <thead>\n",
       "    <tr style=\"text-align: right;\">\n",
       "      <th></th>\n",
       "      <th>nameWithOwner</th>\n",
       "      <th>createdAt</th>\n",
       "      <th>updatedAt</th>\n",
       "      <th>stars</th>\n",
       "      <th>releases</th>\n",
       "      <th>isFork</th>\n",
       "      <th>forkCount</th>\n",
       "      <th>commitCount</th>\n",
       "      <th>description</th>\n",
       "      <th>diskUsage</th>\n",
       "      <th>watchers</th>\n",
       "    </tr>\n",
       "  </thead>\n",
       "  <tbody>\n",
       "    <tr>\n",
       "      <th>sa1_i3</th>\n",
       "      <td>sa1/i3</td>\n",
       "      <td>2013-06-27T08:06:45Z</td>\n",
       "      <td>2013-12-24 17:27:25</td>\n",
       "      <td>0</td>\n",
       "      <td>0</td>\n",
       "      <td>False</td>\n",
       "      <td>0</td>\n",
       "      <td>4232</td>\n",
       "      <td>Mirror of i3 wm. http://i3wm.org/</td>\n",
       "      <td>6592</td>\n",
       "      <td>1</td>\n",
       "    </tr>\n",
       "    <tr>\n",
       "      <th>GSA_seo</th>\n",
       "      <td>GSA/seo</td>\n",
       "      <td>2015-02-02T19:01:42Z</td>\n",
       "      <td>2017-10-13 06:40:32</td>\n",
       "      <td>2</td>\n",
       "      <td>0</td>\n",
       "      <td>False</td>\n",
       "      <td>3</td>\n",
       "      <td>4</td>\n",
       "      <td>Resources and Materials for Search Engine Opti...</td>\n",
       "      <td>111</td>\n",
       "      <td>7</td>\n",
       "    </tr>\n",
       "    <tr>\n",
       "      <th>HHK1_AI</th>\n",
       "      <td>HHK1/AI</td>\n",
       "      <td>2015-08-27T17:33:06Z</td>\n",
       "      <td>2015-09-01 19:27:16</td>\n",
       "      <td>2</td>\n",
       "      <td>0</td>\n",
       "      <td>False</td>\n",
       "      <td>2</td>\n",
       "      <td>47</td>\n",
       "      <td>Memoire HEC</td>\n",
       "      <td>3125</td>\n",
       "      <td>2</td>\n",
       "    </tr>\n",
       "    <tr>\n",
       "      <th>HR_term</th>\n",
       "      <td>HR/term</td>\n",
       "      <td>2016-01-30T11:17:00Z</td>\n",
       "      <td>2017-08-17 15:58:52</td>\n",
       "      <td>3</td>\n",
       "      <td>1</td>\n",
       "      <td>False</td>\n",
       "      <td>0</td>\n",
       "      <td>38</td>\n",
       "      <td>A Terminal helper utility (for macOS)</td>\n",
       "      <td>17</td>\n",
       "      <td>0</td>\n",
       "    </tr>\n",
       "    <tr>\n",
       "      <th>burz_v8</th>\n",
       "      <td>burz/v8</td>\n",
       "      <td>2013-12-18T19:58:52Z</td>\n",
       "      <td>2017-10-06 20:25:09</td>\n",
       "      <td>3</td>\n",
       "      <td>0</td>\n",
       "      <td>False</td>\n",
       "      <td>0</td>\n",
       "      <td>33</td>\n",
       "      <td>v8 - A game engine</td>\n",
       "      <td>196</td>\n",
       "      <td>1</td>\n",
       "    </tr>\n",
       "  </tbody>\n",
       "</table>\n",
       "</div>"
      ],
      "text/plain": [
       "<div>\n",
       "<style scoped>\n",
       "    .dataframe tbody tr th:only-of-type {\n",
       "        vertical-align: middle;\n",
       "    }\n",
       "\n",
       "    .dataframe tbody tr th {\n",
       "        vertical-align: top;\n",
       "    }\n",
       "\n",
       "    .dataframe thead th {\n",
       "        text-align: right;\n",
       "    }\n",
       "</style>\n",
       "<table border=\"1\" class=\"dataframe\">\n",
       "  <thead>\n",
       "    <tr style=\"text-align: right;\">\n",
       "      <th></th>\n",
       "      <th>nameWithOwner</th>\n",
       "      <th>createdAt</th>\n",
       "      <th>updatedAt</th>\n",
       "      <th>stars</th>\n",
       "      <th>releases</th>\n",
       "      <th>isFork</th>\n",
       "      <th>forkCount</th>\n",
       "      <th>commitCount</th>\n",
       "      <th>description</th>\n",
       "      <th>diskUsage</th>\n",
       "      <th>watchers</th>\n",
       "    </tr>\n",
       "  </thead>\n",
       "  <tbody>\n",
       "    <tr>\n",
       "      <th>sa1_i3</th>\n",
       "      <td>sa1/i3</td>\n",
       "      <td>2013-06-27T08:06:45Z</td>\n",
       "      <td>2013-12-24 17:27:25</td>\n",
       "      <td>0</td>\n",
       "      <td>0</td>\n",
       "      <td>False</td>\n",
       "      <td>0</td>\n",
       "      <td>4232</td>\n",
       "      <td>Mirror of i3 wm. http://i3wm.org/</td>\n",
       "      <td>6592</td>\n",
       "      <td>1</td>\n",
       "    </tr>\n",
       "    <tr>\n",
       "      <th>GSA_seo</th>\n",
       "      <td>GSA/seo</td>\n",
       "      <td>2015-02-02T19:01:42Z</td>\n",
       "      <td>2017-10-13 06:40:32</td>\n",
       "      <td>2</td>\n",
       "      <td>0</td>\n",
       "      <td>False</td>\n",
       "      <td>3</td>\n",
       "      <td>4</td>\n",
       "      <td>Resources and Materials for Search Engine Opti...</td>\n",
       "      <td>111</td>\n",
       "      <td>7</td>\n",
       "    </tr>\n",
       "    <tr>\n",
       "      <th>HHK1_AI</th>\n",
       "      <td>HHK1/AI</td>\n",
       "      <td>2015-08-27T17:33:06Z</td>\n",
       "      <td>2015-09-01 19:27:16</td>\n",
       "      <td>2</td>\n",
       "      <td>0</td>\n",
       "      <td>False</td>\n",
       "      <td>2</td>\n",
       "      <td>47</td>\n",
       "      <td>Memoire HEC</td>\n",
       "      <td>3125</td>\n",
       "      <td>2</td>\n",
       "    </tr>\n",
       "    <tr>\n",
       "      <th>HR_term</th>\n",
       "      <td>HR/term</td>\n",
       "      <td>2016-01-30T11:17:00Z</td>\n",
       "      <td>2017-08-17 15:58:52</td>\n",
       "      <td>3</td>\n",
       "      <td>1</td>\n",
       "      <td>False</td>\n",
       "      <td>0</td>\n",
       "      <td>38</td>\n",
       "      <td>A Terminal helper utility (for macOS)</td>\n",
       "      <td>17</td>\n",
       "      <td>0</td>\n",
       "    </tr>\n",
       "    <tr>\n",
       "      <th>burz_v8</th>\n",
       "      <td>burz/v8</td>\n",
       "      <td>2013-12-18T19:58:52Z</td>\n",
       "      <td>2017-10-06 20:25:09</td>\n",
       "      <td>3</td>\n",
       "      <td>0</td>\n",
       "      <td>False</td>\n",
       "      <td>0</td>\n",
       "      <td>33</td>\n",
       "      <td>v8 - A game engine</td>\n",
       "      <td>196</td>\n",
       "      <td>1</td>\n",
       "    </tr>\n",
       "  </tbody>\n",
       "</table>\n",
       "</div>"
      ]
     },
     "execution_count": 110,
     "metadata": {},
     "output_type": "execute_result"
    }
   ],
   "source": [
    "typed_df.head()"
   ]
  },
  {
   "cell_type": "code",
   "execution_count": null,
   "metadata": {},
   "outputs": [],
   "source": []
  }
 ],
 "metadata": {
  "kernelspec": {
   "display_name": "Python 2",
   "language": "python",
   "name": "python2"
  },
  "language_info": {
   "codemirror_mode": {
    "name": "ipython",
    "version": 2
   },
   "file_extension": ".py",
   "mimetype": "text/x-python",
   "name": "python",
   "nbconvert_exporter": "python",
   "pygments_lexer": "ipython2",
   "version": "2.7.6"
  }
 },
 "nbformat": 4,
 "nbformat_minor": 0
}
